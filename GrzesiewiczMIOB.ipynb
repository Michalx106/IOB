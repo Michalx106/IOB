{
 "cells": [
  {
   "metadata": {},
   "cell_type": "markdown",
   "source": [
    "# Analiza Skuteczności Kampanii Promocyjnej\n",
    "\n",
    "W tym notebooku przeprowadzamy analizę skuteczności kampanii promocyjnej na podstawie danych z pliku `kampania.csv` oraz opisu cech z `kampania - cechy.txt`.\n",
    "\n",
    "**Cele:**\n",
    "- Wczytać i przygotować dane (oczyszczenie, kodowanie zmiennych, przekształcenie daty).\n",
    "- Podzielić dane na zbiór treningowy i testowy.\n",
    "- Zbudować modele klasyfikacyjne: KNN oraz SVM.\n",
    "- Porównać wyniki dla danych oryginalnych i danych znormalizowanych.\n"
   ],
   "id": "f69faa55ec4b332e"
  },
  {
   "metadata": {
    "ExecuteTime": {
     "end_time": "2025-03-11T18:51:11.673819Z",
     "start_time": "2025-03-11T18:51:10.133623Z"
    }
   },
   "cell_type": "code",
   "source": [
    "import pandas as pd\n",
    "import numpy as np\n",
    "\n",
    "# Klasyfikatory\n",
    "from sklearn.neighbors import KNeighborsClassifier\n",
    "from sklearn.svm import SVC\n",
    "\n",
    "# Skalowanie\n",
    "from sklearn.preprocessing import StandardScaler\n",
    "\n",
    "# Podział na train/test i metryki\n",
    "from sklearn.model_selection import train_test_split, GridSearchCV\n",
    "from sklearn.metrics import accuracy_score, f1_score"
   ],
   "id": "fbc121e30a2defb3",
   "outputs": [],
   "execution_count": 3
  },
  {
   "metadata": {},
   "cell_type": "markdown",
   "source": "Wczytanie danych",
   "id": "3332c5c25aef9b0"
  },
  {
   "metadata": {
    "ExecuteTime": {
     "end_time": "2025-03-11T19:06:38.795912Z",
     "start_time": "2025-03-11T19:06:38.768211Z"
    }
   },
   "cell_type": "code",
   "source": "df = pd.read_csv('kampania.csv', sep='\\t')",
   "id": "18c199d3ff996563",
   "outputs": [],
   "execution_count": 12
  },
  {
   "metadata": {},
   "cell_type": "markdown",
   "source": "Wstępna analiza i obróbka danych",
   "id": "bc9aa198cd968420"
  },
  {
   "metadata": {
    "ExecuteTime": {
     "end_time": "2025-03-11T19:07:41.386435Z",
     "start_time": "2025-03-11T19:07:41.361137Z"
    }
   },
   "cell_type": "code",
   "source": [
    "# Podstawowy podgląd informacji o danych\n",
    "print(\"Informacje o danych:\")\n",
    "print(df.info())\n",
    "\n",
    "# Sprawdzenie brakujących wartości\n",
    "print(\"\\nLiczba brakujących wartości:\")\n",
    "print(df.isnull().sum())\n",
    "\n",
    "# Jeśli braki są niewielkie, usuwamy wiersze z brakami\n",
    "df.dropna(inplace=True)\n",
    "\n",
    "# Konwersja kolumny 'Dt_Customer' do typu datetime oraz obliczenie stażu klienta\n",
    "df['Dt_Customer'] = pd.to_datetime(df['Dt_Customer'], dayfirst=True)\n",
    "max_date = df['Dt_Customer'].max()  # ostatni dzień w zbiorze\n",
    "df['CustomerTenure'] = (max_date - df['Dt_Customer']).dt.days\n",
    "df.drop(columns=['Dt_Customer'], inplace=True)\n",
    "\n",
    "# Kodowanie zmiennych kategorycznych - Education i Marital_Status\n",
    "df = pd.get_dummies(df, columns=['Education', 'Marital_Status'], drop_first=True)\n",
    "\n",
    "# Podgląd przetworzonych danych\n",
    "print(df.head())\n"
   ],
   "id": "f8b019d31ca12ffe",
   "outputs": [
    {
     "name": "stdout",
     "output_type": "stream",
     "text": [
      "Informacje o danych:\n",
      "<class 'pandas.core.frame.DataFrame'>\n",
      "Index: 2216 entries, 0 to 2239\n",
      "Data columns (total 29 columns):\n",
      " #   Column               Non-Null Count  Dtype  \n",
      "---  ------               --------------  -----  \n",
      " 0   ID                   2216 non-null   int64  \n",
      " 1   Year_Birth           2216 non-null   int64  \n",
      " 2   Education            2216 non-null   object \n",
      " 3   Marital_Status       2216 non-null   object \n",
      " 4   Income               2216 non-null   float64\n",
      " 5   Kidhome              2216 non-null   int64  \n",
      " 6   Teenhome             2216 non-null   int64  \n",
      " 7   Dt_Customer          2216 non-null   object \n",
      " 8   Recency              2216 non-null   int64  \n",
      " 9   MntWines             2216 non-null   int64  \n",
      " 10  MntFruits            2216 non-null   int64  \n",
      " 11  MntMeatProducts      2216 non-null   int64  \n",
      " 12  MntFishProducts      2216 non-null   int64  \n",
      " 13  MntSweetProducts     2216 non-null   int64  \n",
      " 14  MntGoldProds         2216 non-null   int64  \n",
      " 15  NumDealsPurchases    2216 non-null   int64  \n",
      " 16  NumWebPurchases      2216 non-null   int64  \n",
      " 17  NumCatalogPurchases  2216 non-null   int64  \n",
      " 18  NumStorePurchases    2216 non-null   int64  \n",
      " 19  NumWebVisitsMonth    2216 non-null   int64  \n",
      " 20  AcceptedCmp3         2216 non-null   int64  \n",
      " 21  AcceptedCmp4         2216 non-null   int64  \n",
      " 22  AcceptedCmp5         2216 non-null   int64  \n",
      " 23  AcceptedCmp1         2216 non-null   int64  \n",
      " 24  AcceptedCmp2         2216 non-null   int64  \n",
      " 25  Complain             2216 non-null   int64  \n",
      " 26  Z_CostContact        2216 non-null   int64  \n",
      " 27  Z_Revenue            2216 non-null   int64  \n",
      " 28  Response             2216 non-null   int64  \n",
      "dtypes: float64(1), int64(25), object(3)\n",
      "memory usage: 519.4+ KB\n",
      "None\n",
      "\n",
      "Liczba brakujących wartości:\n",
      "ID                     0\n",
      "Year_Birth             0\n",
      "Education              0\n",
      "Marital_Status         0\n",
      "Income                 0\n",
      "Kidhome                0\n",
      "Teenhome               0\n",
      "Dt_Customer            0\n",
      "Recency                0\n",
      "MntWines               0\n",
      "MntFruits              0\n",
      "MntMeatProducts        0\n",
      "MntFishProducts        0\n",
      "MntSweetProducts       0\n",
      "MntGoldProds           0\n",
      "NumDealsPurchases      0\n",
      "NumWebPurchases        0\n",
      "NumCatalogPurchases    0\n",
      "NumStorePurchases      0\n",
      "NumWebVisitsMonth      0\n",
      "AcceptedCmp3           0\n",
      "AcceptedCmp4           0\n",
      "AcceptedCmp5           0\n",
      "AcceptedCmp1           0\n",
      "AcceptedCmp2           0\n",
      "Complain               0\n",
      "Z_CostContact          0\n",
      "Z_Revenue              0\n",
      "Response               0\n",
      "dtype: int64\n",
      "     ID  Year_Birth   Income  Kidhome  Teenhome  Recency  MntWines  MntFruits  \\\n",
      "0  5524        1957  58138.0        0         0       58       635         88   \n",
      "1  2174        1954  46344.0        1         1       38        11          1   \n",
      "2  4141        1965  71613.0        0         0       26       426         49   \n",
      "3  6182        1984  26646.0        1         0       26        11          4   \n",
      "4  5324        1981  58293.0        1         0       94       173         43   \n",
      "\n",
      "   MntMeatProducts  MntFishProducts  ...  Education_Graduation  \\\n",
      "0              546              172  ...                  True   \n",
      "1                6                2  ...                  True   \n",
      "2              127              111  ...                  True   \n",
      "3               20               10  ...                  True   \n",
      "4              118               46  ...                 False   \n",
      "\n",
      "   Education_Master  Education_PhD  Marital_Status_Alone  \\\n",
      "0             False          False                 False   \n",
      "1             False          False                 False   \n",
      "2             False          False                 False   \n",
      "3             False          False                 False   \n",
      "4             False           True                 False   \n",
      "\n",
      "   Marital_Status_Divorced  Marital_Status_Married  Marital_Status_Single  \\\n",
      "0                    False                   False                   True   \n",
      "1                    False                   False                   True   \n",
      "2                    False                   False                  False   \n",
      "3                    False                   False                  False   \n",
      "4                    False                    True                  False   \n",
      "\n",
      "   Marital_Status_Together  Marital_Status_Widow  Marital_Status_YOLO  \n",
      "0                    False                 False                False  \n",
      "1                    False                 False                False  \n",
      "2                     True                 False                False  \n",
      "3                     True                 False                False  \n",
      "4                    False                 False                False  \n",
      "\n",
      "[5 rows x 38 columns]\n"
     ]
    }
   ],
   "execution_count": 14
  },
  {
   "metadata": {},
   "cell_type": "markdown",
   "source": "Przygotowanie zbioru cech (X) i etykiety (y) oraz podział na treningowy i testowy",
   "id": "5953073b774a3088"
  },
  {
   "metadata": {
    "ExecuteTime": {
     "end_time": "2025-03-11T19:07:44.817605Z",
     "start_time": "2025-03-11T19:07:44.797Z"
    }
   },
   "cell_type": "code",
   "source": [
    "# Wykluczamy kolumnę 'ID' (niepotrzebna) oraz 'Response' jest zmienną docelową\n",
    "X = df.drop(columns=['ID', 'Response'])\n",
    "y = df['Response']\n",
    "\n",
    "# Podział na zbiór treningowy i testowy (80%/20%) z zachowaniem proporcji klas\n",
    "X_train, X_test, y_train, y_test = train_test_split(\n",
    "    X, y, test_size=0.2, random_state=42, stratify=y\n",
    ")\n",
    "\n",
    "print(\"Rozmiar zbioru treningowego:\", X_train.shape)\n",
    "print(\"Rozmiar zbioru testowego:\", X_test.shape)\n"
   ],
   "id": "4f065cb73efcd56f",
   "outputs": [
    {
     "name": "stdout",
     "output_type": "stream",
     "text": [
      "Rozmiar zbioru treningowego: (1772, 36)\n",
      "Rozmiar zbioru testowego: (444, 36)\n"
     ]
    }
   ],
   "execution_count": 15
  },
  {
   "metadata": {},
   "cell_type": "markdown",
   "source": "Budowa modeli na danych oryginalnych",
   "id": "854f7b1b12e1ed70"
  },
  {
   "metadata": {
    "ExecuteTime": {
     "end_time": "2025-03-11T19:07:52.357764Z",
     "start_time": "2025-03-11T19:07:52.059889Z"
    }
   },
   "cell_type": "code",
   "source": [
    "# 1. Model KNN\n",
    "knn_orig = KNeighborsClassifier(n_neighbors=5, weights='uniform', metric='euclidean')\n",
    "knn_orig.fit(X_train, y_train)\n",
    "y_pred_knn_orig = knn_orig.predict(X_test)\n",
    "\n",
    "acc_knn_orig = accuracy_score(y_test, y_pred_knn_orig)\n",
    "f1_knn_orig = f1_score(y_test, y_pred_knn_orig)\n",
    "\n",
    "print(f\"KNN (oryginalne) - Accuracy: {acc_knn_orig:.3f}, F1: {f1_knn_orig:.3f}\")\n",
    "\n",
    "# 2. Model SVM\n",
    "svm_orig = SVC(kernel='rbf', C=1.0, gamma='scale')\n",
    "svm_orig.fit(X_train, y_train)\n",
    "y_pred_svm_orig = svm_orig.predict(X_test)\n",
    "\n",
    "acc_svm_orig = accuracy_score(y_test, y_pred_svm_orig)\n",
    "f1_svm_orig = f1_score(y_test, y_pred_svm_orig)\n",
    "\n",
    "print(f\"SVM (oryginalne) - Accuracy: {acc_svm_orig:.3f}, F1: {f1_svm_orig:.3f}\")\n"
   ],
   "id": "af8185ce761a4ac5",
   "outputs": [
    {
     "name": "stdout",
     "output_type": "stream",
     "text": [
      "KNN (oryginalne) - Accuracy: 0.831, F1: 0.176\n",
      "SVM (oryginalne) - Accuracy: 0.849, F1: 0.000\n"
     ]
    }
   ],
   "execution_count": 16
  },
  {
   "metadata": {},
   "cell_type": "markdown",
   "source": "Budowa modeli na danych znormalizowanych",
   "id": "1c9d6341f366312b"
  },
  {
   "metadata": {
    "ExecuteTime": {
     "end_time": "2025-03-11T19:07:57.013672Z",
     "start_time": "2025-03-11T19:07:56.908981Z"
    }
   },
   "cell_type": "code",
   "source": [
    "# Skalowanie danych (uczestwujemy tylko zbiór treningowy, a następnie stosujemy transformację na zbiorze testowym)\n",
    "scaler = StandardScaler()\n",
    "X_train_scaled = scaler.fit_transform(X_train)\n",
    "X_test_scaled = scaler.transform(X_test)\n",
    "\n",
    "# 1. Model KNN na danych znormalizowanych\n",
    "knn_scaled = KNeighborsClassifier(n_neighbors=5, weights='uniform', metric='euclidean')\n",
    "knn_scaled.fit(X_train_scaled, y_train)\n",
    "y_pred_knn_scaled = knn_scaled.predict(X_test_scaled)\n",
    "\n",
    "acc_knn_scaled = accuracy_score(y_test, y_pred_knn_scaled)\n",
    "f1_knn_scaled = f1_score(y_test, y_pred_knn_scaled)\n",
    "\n",
    "print(f\"KNN (znormalizowane) - Accuracy: {acc_knn_scaled:.3f}, F1: {f1_knn_scaled:.3f}\")\n",
    "\n",
    "# 2. Model SVM na danych znormalizowanych\n",
    "svm_scaled = SVC(kernel='rbf', C=1.0, gamma='scale')\n",
    "svm_scaled.fit(X_train_scaled, y_train)\n",
    "y_pred_svm_scaled = svm_scaled.predict(X_test_scaled)\n",
    "\n",
    "acc_svm_scaled = accuracy_score(y_test, y_pred_svm_scaled)\n",
    "f1_svm_scaled = f1_score(y_test, y_pred_svm_scaled)\n",
    "\n",
    "print(f\"SVM (znormalizowane) - Accuracy: {acc_svm_scaled:.3f}, F1: {f1_svm_scaled:.3f}\")\n"
   ],
   "id": "e453f2189087b19a",
   "outputs": [
    {
     "name": "stdout",
     "output_type": "stream",
     "text": [
      "KNN (znormalizowane) - Accuracy: 0.881, F1: 0.454\n",
      "SVM (znormalizowane) - Accuracy: 0.890, F1: 0.473\n"
     ]
    }
   ],
   "execution_count": 17
  },
  {
   "metadata": {},
   "cell_type": "markdown",
   "source": "Podsumowanie wyników",
   "id": "a77f4536961bfde4"
  },
  {
   "metadata": {
    "ExecuteTime": {
     "end_time": "2025-03-11T19:08:01.601173Z",
     "start_time": "2025-03-11T19:08:01.590850Z"
    }
   },
   "cell_type": "code",
   "source": [
    "print(\"=== Podsumowanie Wyników ===\")\n",
    "print(f\"KNN (oryginalne): Accuracy = {acc_knn_orig:.3f}, F1 = {f1_knn_orig:.3f}\")\n",
    "print(f\"KNN (znormalizowane): Accuracy = {acc_knn_scaled:.3f}, F1 = {f1_knn_scaled:.3f}\")\n",
    "print(f\"SVM (oryginalne): Accuracy = {acc_svm_orig:.3f}, F1 = {f1_svm_orig:.3f}\")\n",
    "print(f\"SVM (znormalizowane): Accuracy = {acc_svm_scaled:.3f}, F1 = {f1_svm_scaled:.3f}\")\n"
   ],
   "id": "547450f4a6cdd2b1",
   "outputs": [
    {
     "name": "stdout",
     "output_type": "stream",
     "text": [
      "=== Podsumowanie Wyników ===\n",
      "KNN (oryginalne): Accuracy = 0.831, F1 = 0.176\n",
      "KNN (znormalizowane): Accuracy = 0.881, F1 = 0.454\n",
      "SVM (oryginalne): Accuracy = 0.849, F1 = 0.000\n",
      "SVM (znormalizowane): Accuracy = 0.890, F1 = 0.473\n"
     ]
    }
   ],
   "execution_count": 18
  }
 ],
 "metadata": {
  "kernelspec": {
   "display_name": "Python 3",
   "language": "python",
   "name": "python3"
  },
  "language_info": {
   "codemirror_mode": {
    "name": "ipython",
    "version": 2
   },
   "file_extension": ".py",
   "mimetype": "text/x-python",
   "name": "python",
   "nbconvert_exporter": "python",
   "pygments_lexer": "ipython2",
   "version": "2.7.6"
  }
 },
 "nbformat": 4,
 "nbformat_minor": 5
}
